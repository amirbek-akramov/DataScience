import numpy as np
import pandas as pd
import seaborn as sns
import matplotlib.pyplot as plt
from sklearn.tree import DecisionTreeClassifier
from sklearn.ensemble import RandomForestClassifier
from sklearn.preprocessing import LabelEncoder
from sklearn.model_selection import train_test_split
from sklearn.metrics import confusion_matrix, accuracy_score, classification_report
from sklearn import tree
from sklearn.model_selection import cross_val_predict


url = "https://cf-courses-data.s3.us.cloud-object-storage.appdomain.cloud/IBMDeveloperSkillsNetwork-ML0101EN-SkillsNetwork/labs/Module%203/data/drug200.csv"
df = pd.read_csv(url)


df.sample(10)


encoder = LabelEncoder()
df['Sex'] = encoder.fit_transform(df['Sex'].values)
df['BP'] = encoder.fit_transform(df['BP'].values)
df['Cholesterol'] = encoder.fit_transform(df['Cholesterol'].values)

df.sample(10)


X = df[['Age', 'Sex', 'BP', 'Cholesterol', 'Na_to_K']]
X[0:5]


y = df['Drug'].values


X_train, X_test, y_train, y_test = train_test_split(X, y, test_size=0.4, random_state=20)


tree_model = DecisionTreeClassifier()
tree_model.fit(X_train, y_train)


y_pred = tree_model.predict(X_test)


print(classification_report(y_test, y_pred))


print("Decision Tree Accuracy:", accuracy_score(y_test, y_pred))


sns.heatmap(confusion_matrix(y_test, y_pred), annot=True)
plt.show()


predict = cross_val_predict(tree_model, X=X, y=y, cv=5)
print("Classification Report:", classification_report(y, predict))


cols = df.drop("Drug", axis=1).columns
classes = df["Drug"].unique()

plt.figure(figsize=(30,20))
tree.plot_tree(tree_model, feature_names=cols, class_names=classes, filled=True, rounded=True)
plt.show()





