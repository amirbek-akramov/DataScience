import pandas as pd
import numpy as np
import seaborn as sns
import matplotlib.pyplot as plt


url = "https://raw.githubusercontent.com/anvarnarz/praktikum_datasets/main/diabetes.csv"
df = pd.read_csv(url)
df.head()


df.shape


# Replacing zero values with NaN values

columns_to_replace = ['Glucose', 'BloodPressure', 'SkinThickness', 'Insulin', 'BMI']
df[columns_to_replace] = df[columns_to_replace].replace(0, np.nan)


# In order to make it easy to replace NaN with median values
# I can't delete zero values because they are too a lot.




df.isna().sum()


for column in columns_to_replace:
    df[column].fillna(df[column].median(), inplace=True)
df.isna().sum()


df


# Making sure that it isn't happening overfitting or underfitting
df['Outcome'].value_counts()


# Balance the values
from sklearn.utils import resample

majority_class = df[df['Outcome']==0]
minority_class = df[df['Outcome']==1]

minority_class_upsampled = resample(minority_class,
                                   replace=True,
                                   n_samples=len(majority_class),
                                   random_state=42
                                   )
df_ = pd.concat([majority_class, minority_class_upsampled])
df_


df_['Outcome'].value_counts()
print(df_.shape)


corr = df_.corr().abs()
corr


df_.corrwith(df_['Outcome']).abs().sort_values(ascending=False)


X = df_.drop(columns="Outcome")
y = df_['Outcome']


from sklearn.preprocessing import StandardScaler

scaler = StandardScaler()
X = scaler.fit_transform(X)


from sklearn.model_selection import train_test_split

X_train, X_test, y_train, y_test = train_test_split(X, y, test_size=0.2, random_state=12)

# I want to use k-NN, this will be good practise
from sklearn.neighbors import KNeighborsClassifier
knn = KNeighborsClassifier(n_neighbors=5)
knn.fit(X_train, y_train)


y_pred = knn.predict(X_train)





from sklearn.metrics import jaccard_score, confusion_matrix, mean_squared_error, root_mean_squared_error

jaccard = jaccard_score(y_train, y_pred)
confusion = confusion_matrix(y_train, y_pred)
mse = mean_squared_error(y_train, y_pred)
rmse = np.sqrt(mean_squared_error(y_train, y_pred))

print(f"{jaccard=}")
print(f"{confusion=}")
print(f"{mse=}")
print(f"{rmse=}")


from sklearn.metrics import classification_report

clasrep = classification_report(y_train, y_pred)
print(clasrep)


from sklearn.model_selection import cross_val_predict
predict = cross_val_predict(estimator=knn, X = X, y=y, cv=5)

print("Cross Validation Report", classification_report(y, predict))


from sklearn.model_selection import GridSearchCV

param_grid = {'n_neighbors': np.arange(1, 51)}

knn_gscv = GridSearchCV(knn, param_grid, cv=5)

knn_gscv.fit(X, y)


knn_gscv.cv_results_['rank_test_score']


knn_gscv.best_params_


knn_gscv.best_score_



