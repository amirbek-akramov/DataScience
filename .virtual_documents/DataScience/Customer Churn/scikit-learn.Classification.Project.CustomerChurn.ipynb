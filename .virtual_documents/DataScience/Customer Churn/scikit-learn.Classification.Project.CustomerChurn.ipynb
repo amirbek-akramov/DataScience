import pandas as pd
import numpy as np
import matplotlib.pyplot as plt
import seaborn as sns

from sklearn.model_selection import train_test_split
from sklearn.preprocessing import StandardScaler

from sklearn.linear_model import LogisticRegression
from sklearn.tree import DecisionTreeClassifier, plot_tree
from sklearn.ensemble import RandomForestClassifier
from sklearn.svm import SVC
from xgboost import XGBClassifier

from sklearn.pipeline import Pipeline
from sklearn import metrics


url="https://github.com/anvarnarz/praktikum_datasets/blob/main/E-Commerce-Dataset.xlsx?raw=true"

df = pd.read_excel(url, sheet_name="E Comm")

df.head()


df.shape


df.isna().sum()


df.describe()


df.info()


df['Churn'].value_counts()


churn_rate = df['Churn'].value_counts()/len(df)*100
churn_rate


plt.figure(figsize=(10, 10))
plt.pie(churn_rate, labels=["Came", "Didn't come"])
plt.show()


df.columns


fig, axes = plt.subplots(1,3, figsize=(15, 5))

# Churn
sns.barplot(data=df, x='Churn', y='CashbackAmount', hue='Gender', palette='mako',  errorbar=None, ax=axes[0])
axes[0].set_title('CashBack amount by Churn')

# Tenure
sns.histplot(df['Tenure'], kde=True, bins=25, ax=axes[1])

axes[1].set_title('Tenure')

# Preferred login device
df['PreferredLoginDevice'].value_counts().plot.pie(autopct='%1.1f%%', ax=axes[2])
axes[2].set_title('Preferred Login Devices')
axes[2].set_ylabel(" ")



fig, axes = plt.subplots(1,3, figsize=(15, 5))

# CityTier
sns.countplot(data=df, x='CityTier', hue='Churn', palette='mako', ax=axes[0])
axes[0].set_title("Churn rate by City Tier")


# HourSpendOnApp
sns.violinplot(x='SatisfactionScore', y='HourSpendOnApp', hue='Churn', palette='mako', gap=.1, split=True, inner="quart", data=df, ax=axes[1])
axes[1].set_title('Time Spent on App by Satisfaction Score')

# PreferredPaymentMode
colors = sns.color_palette('Set2', len(df['PreferredPaymentMode'].value_counts()))
plt.pie(df['PreferredPaymentMode'].value_counts(), labels=df['PreferredPaymentMode'].value_counts().index, autopct='%1.1f%%', startangle=140, colors=colors, wedgeprops={'edgecolor': 'black'})
axes[2].set_title("Preferred Payment Mode Distribution")


plt.figure(figsize=(10, 6))
sns.boxplot(data=df, x='Complain', y='SatisfactionScore', palette='mako', hue='Churn')
plt.show()


fig, axes = plt.subplots(1,3, figsize=(15,5))

# Tenure
sns.histplot(x="Tenure", hue='Churn', palette='mako', data=df, ax=axes[0])
axes[0].set_title("Tenure")

#OrderCount
sns.histplot(x="OrderCount", hue='Churn', palette='mako', data=df, ax=axes[1])
axes[1].set_title("Order count")

# Cashback
sns.histplot(x="CashbackAmount", hue='Churn', palette='mako', data=df, ax=axes[2])
axes[2].set_title("Amount of cashback")

plt.show()


fig, axes = plt.subplots(1,3, figsize=(15,5))

sns.countplot(x='Gender', hue='Churn', palette='mako', data=df, ax=axes[0])
axes[0].set_title("Genred of clients")

sns.countplot(x='MaritalStatus', hue='Churn', palette='mako', data=df, ax=axes[1])
axes[1].set_title("Marital status of clients")

sns.countplot(x='Complain', hue='Churn', palette='mako', data=df, ax=axes[2])
axes[1].set_title("Complain of clients")

plt.show()


df_ = df.drop(columns=['PreferredLoginDevice', 'PreferredPaymentMode', 'Gender', "PreferedOrderCat", "MaritalStatus"])
df_.corrwith(df['Churn']).abs().sort_values(ascending=False)


df.isna().sum()


# missing_rows = df[df.isnull().any(axis=1)].shape[0]
missing_rows = df.isnull().sum().sum()
missing_rows


print(f"{np.round(missing_rows/len(df)*100)}%")



