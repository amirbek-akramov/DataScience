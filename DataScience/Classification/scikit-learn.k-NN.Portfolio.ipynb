{
 "cells": [
  {
   "cell_type": "code",
   "id": "38c8719a-f5cb-438a-a85e-fba05f0411d7",
   "metadata": {
    "ExecuteTime": {
     "end_time": "2024-07-06T12:02:15.983799Z",
     "start_time": "2024-07-06T12:02:15.976085Z"
    }
   },
   "source": [
    "import pandas as pd\n",
    "import numpy as np\n",
    "import seaborn as sns\n",
    "import matplotlib.pyplot as plt"
   ],
   "outputs": [],
   "execution_count": 1
  },
  {
   "metadata": {
    "ExecuteTime": {
     "end_time": "2024-07-06T12:02:37.541062Z",
     "start_time": "2024-07-06T12:02:36.434478Z"
    }
   },
   "cell_type": "code",
   "source": [
    "url = \"https://raw.githubusercontent.com/anvarnarz/praktikum_datasets/main/diabetes.csv\"\n",
    "df = pd.read_csv(url)\n",
    "df.head()"
   ],
   "id": "70ace095be668196",
   "outputs": [
    {
     "data": {
      "text/plain": [
       "   Pregnancies  Glucose  BloodPressure  SkinThickness  Insulin   BMI  \\\n",
       "0            6      148             72             35        0  33.6   \n",
       "1            1       85             66             29        0  26.6   \n",
       "2            8      183             64              0        0  23.3   \n",
       "3            1       89             66             23       94  28.1   \n",
       "4            0      137             40             35      168  43.1   \n",
       "\n",
       "   DiabetesPedigreeFunction  Age  Outcome  \n",
       "0                     0.627   50        1  \n",
       "1                     0.351   31        0  \n",
       "2                     0.672   32        1  \n",
       "3                     0.167   21        0  \n",
       "4                     2.288   33        1  "
      ],
      "text/html": [
       "<div>\n",
       "<style scoped>\n",
       "    .dataframe tbody tr th:only-of-type {\n",
       "        vertical-align: middle;\n",
       "    }\n",
       "\n",
       "    .dataframe tbody tr th {\n",
       "        vertical-align: top;\n",
       "    }\n",
       "\n",
       "    .dataframe thead th {\n",
       "        text-align: right;\n",
       "    }\n",
       "</style>\n",
       "<table border=\"1\" class=\"dataframe\">\n",
       "  <thead>\n",
       "    <tr style=\"text-align: right;\">\n",
       "      <th></th>\n",
       "      <th>Pregnancies</th>\n",
       "      <th>Glucose</th>\n",
       "      <th>BloodPressure</th>\n",
       "      <th>SkinThickness</th>\n",
       "      <th>Insulin</th>\n",
       "      <th>BMI</th>\n",
       "      <th>DiabetesPedigreeFunction</th>\n",
       "      <th>Age</th>\n",
       "      <th>Outcome</th>\n",
       "    </tr>\n",
       "  </thead>\n",
       "  <tbody>\n",
       "    <tr>\n",
       "      <th>0</th>\n",
       "      <td>6</td>\n",
       "      <td>148</td>\n",
       "      <td>72</td>\n",
       "      <td>35</td>\n",
       "      <td>0</td>\n",
       "      <td>33.6</td>\n",
       "      <td>0.627</td>\n",
       "      <td>50</td>\n",
       "      <td>1</td>\n",
       "    </tr>\n",
       "    <tr>\n",
       "      <th>1</th>\n",
       "      <td>1</td>\n",
       "      <td>85</td>\n",
       "      <td>66</td>\n",
       "      <td>29</td>\n",
       "      <td>0</td>\n",
       "      <td>26.6</td>\n",
       "      <td>0.351</td>\n",
       "      <td>31</td>\n",
       "      <td>0</td>\n",
       "    </tr>\n",
       "    <tr>\n",
       "      <th>2</th>\n",
       "      <td>8</td>\n",
       "      <td>183</td>\n",
       "      <td>64</td>\n",
       "      <td>0</td>\n",
       "      <td>0</td>\n",
       "      <td>23.3</td>\n",
       "      <td>0.672</td>\n",
       "      <td>32</td>\n",
       "      <td>1</td>\n",
       "    </tr>\n",
       "    <tr>\n",
       "      <th>3</th>\n",
       "      <td>1</td>\n",
       "      <td>89</td>\n",
       "      <td>66</td>\n",
       "      <td>23</td>\n",
       "      <td>94</td>\n",
       "      <td>28.1</td>\n",
       "      <td>0.167</td>\n",
       "      <td>21</td>\n",
       "      <td>0</td>\n",
       "    </tr>\n",
       "    <tr>\n",
       "      <th>4</th>\n",
       "      <td>0</td>\n",
       "      <td>137</td>\n",
       "      <td>40</td>\n",
       "      <td>35</td>\n",
       "      <td>168</td>\n",
       "      <td>43.1</td>\n",
       "      <td>2.288</td>\n",
       "      <td>33</td>\n",
       "      <td>1</td>\n",
       "    </tr>\n",
       "  </tbody>\n",
       "</table>\n",
       "</div>"
      ]
     },
     "execution_count": 2,
     "metadata": {},
     "output_type": "execute_result"
    }
   ],
   "execution_count": 2
  },
  {
   "metadata": {
    "ExecuteTime": {
     "end_time": "2024-07-06T12:02:49.825663Z",
     "start_time": "2024-07-06T12:02:49.802329Z"
    }
   },
   "cell_type": "code",
   "source": "df.shape",
   "id": "307c6724456f04a9",
   "outputs": [
    {
     "data": {
      "text/plain": [
       "(768, 9)"
      ]
     },
     "execution_count": 4,
     "metadata": {},
     "output_type": "execute_result"
    }
   ],
   "execution_count": 4
  },
  {
   "metadata": {
    "ExecuteTime": {
     "end_time": "2024-07-06T12:03:14.344434Z",
     "start_time": "2024-07-06T12:03:14.321036Z"
    }
   },
   "cell_type": "code",
   "source": "df['Outcome'].value_counts()",
   "id": "145b1f9aa7468dd3",
   "outputs": [
    {
     "data": {
      "text/plain": [
       "Outcome\n",
       "0    500\n",
       "1    268\n",
       "Name: count, dtype: int64"
      ]
     },
     "execution_count": 5,
     "metadata": {},
     "output_type": "execute_result"
    }
   ],
   "execution_count": 5
  },
  {
   "metadata": {},
   "cell_type": "markdown",
   "source": "I want to replace zero values in data with NaN values",
   "id": "6fc480bb6cbf3482"
  },
  {
   "metadata": {
    "ExecuteTime": {
     "end_time": "2024-07-06T12:04:56.779971Z",
     "start_time": "2024-07-06T12:04:56.764358Z"
    }
   },
   "cell_type": "code",
   "source": [
    "columns_to_replace = ['Glucose', 'BloodPressure', 'SkinThickness', 'Insulin', 'BMI']\n",
    "df[columns_to_replace] = df[columns_to_replace].replace(0, np.nan)"
   ],
   "id": "c5bcbee895ab7434",
   "outputs": [],
   "execution_count": 6
  },
  {
   "metadata": {
    "ExecuteTime": {
     "end_time": "2024-07-06T12:05:06.725732Z",
     "start_time": "2024-07-06T12:05:06.699420Z"
    }
   },
   "cell_type": "code",
   "source": "df.isna().sum()",
   "id": "4c4fb8a48f70e165",
   "outputs": [
    {
     "data": {
      "text/plain": [
       "Pregnancies                   0\n",
       "Glucose                       5\n",
       "BloodPressure                35\n",
       "SkinThickness               227\n",
       "Insulin                     374\n",
       "BMI                          11\n",
       "DiabetesPedigreeFunction      0\n",
       "Age                           0\n",
       "Outcome                       0\n",
       "dtype: int64"
      ]
     },
     "execution_count": 7,
     "metadata": {},
     "output_type": "execute_result"
    }
   ],
   "execution_count": 7
  },
  {
   "metadata": {},
   "cell_type": "markdown",
   "source": "I want to replace NaN values with median value",
   "id": "f1b2033beed34fe0"
  },
  {
   "metadata": {
    "ExecuteTime": {
     "end_time": "2024-07-06T12:08:55.258912Z",
     "start_time": "2024-07-06T12:08:55.237708Z"
    }
   },
   "cell_type": "code",
   "source": [
    "# This is back-fill, I use it instead of fillna(method='bfill')\n",
    "df.bfill(inplace=True)\n",
    "df.isna().sum()"
   ],
   "id": "265ba0844d2642c8",
   "outputs": [
    {
     "data": {
      "text/plain": [
       "Pregnancies                 0\n",
       "Glucose                     0\n",
       "BloodPressure               0\n",
       "SkinThickness               0\n",
       "Insulin                     0\n",
       "BMI                         0\n",
       "DiabetesPedigreeFunction    0\n",
       "Age                         0\n",
       "Outcome                     0\n",
       "dtype: int64"
      ]
     },
     "execution_count": 13,
     "metadata": {},
     "output_type": "execute_result"
    }
   ],
   "execution_count": 13
  },
  {
   "metadata": {
    "ExecuteTime": {
     "end_time": "2024-07-06T12:12:20.382585Z",
     "start_time": "2024-07-06T12:12:19.811402Z"
    }
   },
   "cell_type": "code",
   "source": [
    "corr = df.corr().abs()\n",
    "sns.heatmap(corr, annot=True, fmt='.2f', cmap='coolwarm')"
   ],
   "id": "6736252597db9076",
   "outputs": [
    {
     "data": {
      "text/plain": [
       "<Axes: >"
      ]
     },
     "execution_count": 17,
     "metadata": {},
     "output_type": "execute_result"
    },
    {
     "data": {
      "text/plain": [
       "<Figure size 640x480 with 2 Axes>"
      ],
      "image/png": "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"
     },
     "metadata": {},
     "output_type": "display_data"
    }
   ],
   "execution_count": 17
  },
  {
   "metadata": {
    "ExecuteTime": {
     "end_time": "2024-07-06T12:15:55.408570Z",
     "start_time": "2024-07-06T12:15:55.369898Z"
    }
   },
   "cell_type": "code",
   "source": "df.corrwith(df['Outcome']).abs().sort_values(ascending=False)",
   "id": "53c99d888a09e582",
   "outputs": [
    {
     "data": {
      "text/plain": [
       "Outcome                     1.000000\n",
       "Glucose                     0.490122\n",
       "BMI                         0.309940\n",
       "Age                         0.238356\n",
       "Pregnancies                 0.221898\n",
       "DiabetesPedigreeFunction    0.173844\n",
       "SkinThickness               0.167967\n",
       "BloodPressure               0.153802\n",
       "Insulin                     0.149714\n",
       "dtype: float64"
      ]
     },
     "execution_count": 19,
     "metadata": {},
     "output_type": "execute_result"
    }
   ],
   "execution_count": 19
  },
  {
   "metadata": {
    "ExecuteTime": {
     "end_time": "2024-07-06T12:17:17.906146Z",
     "start_time": "2024-07-06T12:17:17.889292Z"
    }
   },
   "cell_type": "code",
   "source": [
    "X = df.drop('Outcome', axis=1)\n",
    "y = df['Outcome']"
   ],
   "id": "fd11c516cf5082b5",
   "outputs": [],
   "execution_count": 20
  },
  {
   "metadata": {
    "ExecuteTime": {
     "end_time": "2024-07-06T12:21:21.690500Z",
     "start_time": "2024-07-06T12:21:21.403144Z"
    }
   },
   "cell_type": "code",
   "source": [
    "from sklearn.preprocessing import StandardScaler\n",
    "\n",
    "scaler = StandardScaler()\n",
    "scaler.fit_transform(X)"
   ],
   "id": "a36dfbf697b710e4",
   "outputs": [
    {
     "data": {
      "text/plain": [
       "array([[ 0.63994726,  0.86806103, -0.02495216, ...,  0.16192823,\n",
       "         0.46849198,  1.4259954 ],\n",
       "       [-0.84488505, -1.19674723, -0.51009802, ..., -0.85196199,\n",
       "        -0.36506078, -0.19067191],\n",
       "       [ 1.23388019,  2.01517672, -0.6718133 , ..., -1.32993881,\n",
       "         0.60439732, -0.10558415],\n",
       "       ...,\n",
       "       [ 0.3429808 , -0.0168568 , -0.02495216, ..., -0.90989858,\n",
       "        -0.68519336, -0.27575966],\n",
       "       [-0.84488505,  0.14701687, -0.99524387, ..., -0.34501688,\n",
       "        -0.37110101,  1.17073215],\n",
       "       [-0.84488505, -0.93454935, -0.18666745, ..., -0.30156445,\n",
       "        -0.47378505, -0.87137393]])"
      ]
     },
     "execution_count": 21,
     "metadata": {},
     "output_type": "execute_result"
    }
   ],
   "execution_count": 21
  },
  {
   "metadata": {
    "ExecuteTime": {
     "end_time": "2024-07-06T12:22:03.068671Z",
     "start_time": "2024-07-06T12:22:02.598006Z"
    }
   },
   "cell_type": "code",
   "source": [
    "from sklearn.model_selection import train_test_split\n",
    "\n",
    "X_train, X_test, y_train, y_test = train_test_split(X, y, test_size=0.2, random_state=12)\n",
    "\n",
    "from sklearn.neighbors import KNeighborsClassifier\n",
    "knn = KNeighborsClassifier(n_neighbors=5)\n",
    "knn.fit(X_train, y_train)"
   ],
   "id": "2ad1aef48d9c4f99",
   "outputs": [
    {
     "data": {
      "text/plain": [
       "KNeighborsClassifier()"
      ],
      "text/html": [
       "<style>#sk-container-id-1 {\n",
       "  /* Definition of color scheme common for light and dark mode */\n",
       "  --sklearn-color-text: black;\n",
       "  --sklearn-color-line: gray;\n",
       "  /* Definition of color scheme for unfitted estimators */\n",
       "  --sklearn-color-unfitted-level-0: #fff5e6;\n",
       "  --sklearn-color-unfitted-level-1: #f6e4d2;\n",
       "  --sklearn-color-unfitted-level-2: #ffe0b3;\n",
       "  --sklearn-color-unfitted-level-3: chocolate;\n",
       "  /* Definition of color scheme for fitted estimators */\n",
       "  --sklearn-color-fitted-level-0: #f0f8ff;\n",
       "  --sklearn-color-fitted-level-1: #d4ebff;\n",
       "  --sklearn-color-fitted-level-2: #b3dbfd;\n",
       "  --sklearn-color-fitted-level-3: cornflowerblue;\n",
       "\n",
       "  /* Specific color for light theme */\n",
       "  --sklearn-color-text-on-default-background: var(--sg-text-color, var(--theme-code-foreground, var(--jp-content-font-color1, black)));\n",
       "  --sklearn-color-background: var(--sg-background-color, var(--theme-background, var(--jp-layout-color0, white)));\n",
       "  --sklearn-color-border-box: var(--sg-text-color, var(--theme-code-foreground, var(--jp-content-font-color1, black)));\n",
       "  --sklearn-color-icon: #696969;\n",
       "\n",
       "  @media (prefers-color-scheme: dark) {\n",
       "    /* Redefinition of color scheme for dark theme */\n",
       "    --sklearn-color-text-on-default-background: var(--sg-text-color, var(--theme-code-foreground, var(--jp-content-font-color1, white)));\n",
       "    --sklearn-color-background: var(--sg-background-color, var(--theme-background, var(--jp-layout-color0, #111)));\n",
       "    --sklearn-color-border-box: var(--sg-text-color, var(--theme-code-foreground, var(--jp-content-font-color1, white)));\n",
       "    --sklearn-color-icon: #878787;\n",
       "  }\n",
       "}\n",
       "\n",
       "#sk-container-id-1 {\n",
       "  color: var(--sklearn-color-text);\n",
       "}\n",
       "\n",
       "#sk-container-id-1 pre {\n",
       "  padding: 0;\n",
       "}\n",
       "\n",
       "#sk-container-id-1 input.sk-hidden--visually {\n",
       "  border: 0;\n",
       "  clip: rect(1px 1px 1px 1px);\n",
       "  clip: rect(1px, 1px, 1px, 1px);\n",
       "  height: 1px;\n",
       "  margin: -1px;\n",
       "  overflow: hidden;\n",
       "  padding: 0;\n",
       "  position: absolute;\n",
       "  width: 1px;\n",
       "}\n",
       "\n",
       "#sk-container-id-1 div.sk-dashed-wrapped {\n",
       "  border: 1px dashed var(--sklearn-color-line);\n",
       "  margin: 0 0.4em 0.5em 0.4em;\n",
       "  box-sizing: border-box;\n",
       "  padding-bottom: 0.4em;\n",
       "  background-color: var(--sklearn-color-background);\n",
       "}\n",
       "\n",
       "#sk-container-id-1 div.sk-container {\n",
       "  /* jupyter's `normalize.less` sets `[hidden] { display: none; }`\n",
       "     but bootstrap.min.css set `[hidden] { display: none !important; }`\n",
       "     so we also need the `!important` here to be able to override the\n",
       "     default hidden behavior on the sphinx rendered scikit-learn.org.\n",
       "     See: https://github.com/scikit-learn/scikit-learn/issues/21755 */\n",
       "  display: inline-block !important;\n",
       "  position: relative;\n",
       "}\n",
       "\n",
       "#sk-container-id-1 div.sk-text-repr-fallback {\n",
       "  display: none;\n",
       "}\n",
       "\n",
       "div.sk-parallel-item,\n",
       "div.sk-serial,\n",
       "div.sk-item {\n",
       "  /* draw centered vertical line to link estimators */\n",
       "  background-image: linear-gradient(var(--sklearn-color-text-on-default-background), var(--sklearn-color-text-on-default-background));\n",
       "  background-size: 2px 100%;\n",
       "  background-repeat: no-repeat;\n",
       "  background-position: center center;\n",
       "}\n",
       "\n",
       "/* Parallel-specific style estimator block */\n",
       "\n",
       "#sk-container-id-1 div.sk-parallel-item::after {\n",
       "  content: \"\";\n",
       "  width: 100%;\n",
       "  border-bottom: 2px solid var(--sklearn-color-text-on-default-background);\n",
       "  flex-grow: 1;\n",
       "}\n",
       "\n",
       "#sk-container-id-1 div.sk-parallel {\n",
       "  display: flex;\n",
       "  align-items: stretch;\n",
       "  justify-content: center;\n",
       "  background-color: var(--sklearn-color-background);\n",
       "  position: relative;\n",
       "}\n",
       "\n",
       "#sk-container-id-1 div.sk-parallel-item {\n",
       "  display: flex;\n",
       "  flex-direction: column;\n",
       "}\n",
       "\n",
       "#sk-container-id-1 div.sk-parallel-item:first-child::after {\n",
       "  align-self: flex-end;\n",
       "  width: 50%;\n",
       "}\n",
       "\n",
       "#sk-container-id-1 div.sk-parallel-item:last-child::after {\n",
       "  align-self: flex-start;\n",
       "  width: 50%;\n",
       "}\n",
       "\n",
       "#sk-container-id-1 div.sk-parallel-item:only-child::after {\n",
       "  width: 0;\n",
       "}\n",
       "\n",
       "/* Serial-specific style estimator block */\n",
       "\n",
       "#sk-container-id-1 div.sk-serial {\n",
       "  display: flex;\n",
       "  flex-direction: column;\n",
       "  align-items: center;\n",
       "  background-color: var(--sklearn-color-background);\n",
       "  padding-right: 1em;\n",
       "  padding-left: 1em;\n",
       "}\n",
       "\n",
       "\n",
       "/* Toggleable style: style used for estimator/Pipeline/ColumnTransformer box that is\n",
       "clickable and can be expanded/collapsed.\n",
       "- Pipeline and ColumnTransformer use this feature and define the default style\n",
       "- Estimators will overwrite some part of the style using the `sk-estimator` class\n",
       "*/\n",
       "\n",
       "/* Pipeline and ColumnTransformer style (default) */\n",
       "\n",
       "#sk-container-id-1 div.sk-toggleable {\n",
       "  /* Default theme specific background. It is overwritten whether we have a\n",
       "  specific estimator or a Pipeline/ColumnTransformer */\n",
       "  background-color: var(--sklearn-color-background);\n",
       "}\n",
       "\n",
       "/* Toggleable label */\n",
       "#sk-container-id-1 label.sk-toggleable__label {\n",
       "  cursor: pointer;\n",
       "  display: block;\n",
       "  width: 100%;\n",
       "  margin-bottom: 0;\n",
       "  padding: 0.5em;\n",
       "  box-sizing: border-box;\n",
       "  text-align: center;\n",
       "}\n",
       "\n",
       "#sk-container-id-1 label.sk-toggleable__label-arrow:before {\n",
       "  /* Arrow on the left of the label */\n",
       "  content: \"▸\";\n",
       "  float: left;\n",
       "  margin-right: 0.25em;\n",
       "  color: var(--sklearn-color-icon);\n",
       "}\n",
       "\n",
       "#sk-container-id-1 label.sk-toggleable__label-arrow:hover:before {\n",
       "  color: var(--sklearn-color-text);\n",
       "}\n",
       "\n",
       "/* Toggleable content - dropdown */\n",
       "\n",
       "#sk-container-id-1 div.sk-toggleable__content {\n",
       "  max-height: 0;\n",
       "  max-width: 0;\n",
       "  overflow: hidden;\n",
       "  text-align: left;\n",
       "  /* unfitted */\n",
       "  background-color: var(--sklearn-color-unfitted-level-0);\n",
       "}\n",
       "\n",
       "#sk-container-id-1 div.sk-toggleable__content.fitted {\n",
       "  /* fitted */\n",
       "  background-color: var(--sklearn-color-fitted-level-0);\n",
       "}\n",
       "\n",
       "#sk-container-id-1 div.sk-toggleable__content pre {\n",
       "  margin: 0.2em;\n",
       "  border-radius: 0.25em;\n",
       "  color: var(--sklearn-color-text);\n",
       "  /* unfitted */\n",
       "  background-color: var(--sklearn-color-unfitted-level-0);\n",
       "}\n",
       "\n",
       "#sk-container-id-1 div.sk-toggleable__content.fitted pre {\n",
       "  /* unfitted */\n",
       "  background-color: var(--sklearn-color-fitted-level-0);\n",
       "}\n",
       "\n",
       "#sk-container-id-1 input.sk-toggleable__control:checked~div.sk-toggleable__content {\n",
       "  /* Expand drop-down */\n",
       "  max-height: 200px;\n",
       "  max-width: 100%;\n",
       "  overflow: auto;\n",
       "}\n",
       "\n",
       "#sk-container-id-1 input.sk-toggleable__control:checked~label.sk-toggleable__label-arrow:before {\n",
       "  content: \"▾\";\n",
       "}\n",
       "\n",
       "/* Pipeline/ColumnTransformer-specific style */\n",
       "\n",
       "#sk-container-id-1 div.sk-label input.sk-toggleable__control:checked~label.sk-toggleable__label {\n",
       "  color: var(--sklearn-color-text);\n",
       "  background-color: var(--sklearn-color-unfitted-level-2);\n",
       "}\n",
       "\n",
       "#sk-container-id-1 div.sk-label.fitted input.sk-toggleable__control:checked~label.sk-toggleable__label {\n",
       "  background-color: var(--sklearn-color-fitted-level-2);\n",
       "}\n",
       "\n",
       "/* Estimator-specific style */\n",
       "\n",
       "/* Colorize estimator box */\n",
       "#sk-container-id-1 div.sk-estimator input.sk-toggleable__control:checked~label.sk-toggleable__label {\n",
       "  /* unfitted */\n",
       "  background-color: var(--sklearn-color-unfitted-level-2);\n",
       "}\n",
       "\n",
       "#sk-container-id-1 div.sk-estimator.fitted input.sk-toggleable__control:checked~label.sk-toggleable__label {\n",
       "  /* fitted */\n",
       "  background-color: var(--sklearn-color-fitted-level-2);\n",
       "}\n",
       "\n",
       "#sk-container-id-1 div.sk-label label.sk-toggleable__label,\n",
       "#sk-container-id-1 div.sk-label label {\n",
       "  /* The background is the default theme color */\n",
       "  color: var(--sklearn-color-text-on-default-background);\n",
       "}\n",
       "\n",
       "/* On hover, darken the color of the background */\n",
       "#sk-container-id-1 div.sk-label:hover label.sk-toggleable__label {\n",
       "  color: var(--sklearn-color-text);\n",
       "  background-color: var(--sklearn-color-unfitted-level-2);\n",
       "}\n",
       "\n",
       "/* Label box, darken color on hover, fitted */\n",
       "#sk-container-id-1 div.sk-label.fitted:hover label.sk-toggleable__label.fitted {\n",
       "  color: var(--sklearn-color-text);\n",
       "  background-color: var(--sklearn-color-fitted-level-2);\n",
       "}\n",
       "\n",
       "/* Estimator label */\n",
       "\n",
       "#sk-container-id-1 div.sk-label label {\n",
       "  font-family: monospace;\n",
       "  font-weight: bold;\n",
       "  display: inline-block;\n",
       "  line-height: 1.2em;\n",
       "}\n",
       "\n",
       "#sk-container-id-1 div.sk-label-container {\n",
       "  text-align: center;\n",
       "}\n",
       "\n",
       "/* Estimator-specific */\n",
       "#sk-container-id-1 div.sk-estimator {\n",
       "  font-family: monospace;\n",
       "  border: 1px dotted var(--sklearn-color-border-box);\n",
       "  border-radius: 0.25em;\n",
       "  box-sizing: border-box;\n",
       "  margin-bottom: 0.5em;\n",
       "  /* unfitted */\n",
       "  background-color: var(--sklearn-color-unfitted-level-0);\n",
       "}\n",
       "\n",
       "#sk-container-id-1 div.sk-estimator.fitted {\n",
       "  /* fitted */\n",
       "  background-color: var(--sklearn-color-fitted-level-0);\n",
       "}\n",
       "\n",
       "/* on hover */\n",
       "#sk-container-id-1 div.sk-estimator:hover {\n",
       "  /* unfitted */\n",
       "  background-color: var(--sklearn-color-unfitted-level-2);\n",
       "}\n",
       "\n",
       "#sk-container-id-1 div.sk-estimator.fitted:hover {\n",
       "  /* fitted */\n",
       "  background-color: var(--sklearn-color-fitted-level-2);\n",
       "}\n",
       "\n",
       "/* Specification for estimator info (e.g. \"i\" and \"?\") */\n",
       "\n",
       "/* Common style for \"i\" and \"?\" */\n",
       "\n",
       ".sk-estimator-doc-link,\n",
       "a:link.sk-estimator-doc-link,\n",
       "a:visited.sk-estimator-doc-link {\n",
       "  float: right;\n",
       "  font-size: smaller;\n",
       "  line-height: 1em;\n",
       "  font-family: monospace;\n",
       "  background-color: var(--sklearn-color-background);\n",
       "  border-radius: 1em;\n",
       "  height: 1em;\n",
       "  width: 1em;\n",
       "  text-decoration: none !important;\n",
       "  margin-left: 1ex;\n",
       "  /* unfitted */\n",
       "  border: var(--sklearn-color-unfitted-level-1) 1pt solid;\n",
       "  color: var(--sklearn-color-unfitted-level-1);\n",
       "}\n",
       "\n",
       ".sk-estimator-doc-link.fitted,\n",
       "a:link.sk-estimator-doc-link.fitted,\n",
       "a:visited.sk-estimator-doc-link.fitted {\n",
       "  /* fitted */\n",
       "  border: var(--sklearn-color-fitted-level-1) 1pt solid;\n",
       "  color: var(--sklearn-color-fitted-level-1);\n",
       "}\n",
       "\n",
       "/* On hover */\n",
       "div.sk-estimator:hover .sk-estimator-doc-link:hover,\n",
       ".sk-estimator-doc-link:hover,\n",
       "div.sk-label-container:hover .sk-estimator-doc-link:hover,\n",
       ".sk-estimator-doc-link:hover {\n",
       "  /* unfitted */\n",
       "  background-color: var(--sklearn-color-unfitted-level-3);\n",
       "  color: var(--sklearn-color-background);\n",
       "  text-decoration: none;\n",
       "}\n",
       "\n",
       "div.sk-estimator.fitted:hover .sk-estimator-doc-link.fitted:hover,\n",
       ".sk-estimator-doc-link.fitted:hover,\n",
       "div.sk-label-container:hover .sk-estimator-doc-link.fitted:hover,\n",
       ".sk-estimator-doc-link.fitted:hover {\n",
       "  /* fitted */\n",
       "  background-color: var(--sklearn-color-fitted-level-3);\n",
       "  color: var(--sklearn-color-background);\n",
       "  text-decoration: none;\n",
       "}\n",
       "\n",
       "/* Span, style for the box shown on hovering the info icon */\n",
       ".sk-estimator-doc-link span {\n",
       "  display: none;\n",
       "  z-index: 9999;\n",
       "  position: relative;\n",
       "  font-weight: normal;\n",
       "  right: .2ex;\n",
       "  padding: .5ex;\n",
       "  margin: .5ex;\n",
       "  width: min-content;\n",
       "  min-width: 20ex;\n",
       "  max-width: 50ex;\n",
       "  color: var(--sklearn-color-text);\n",
       "  box-shadow: 2pt 2pt 4pt #999;\n",
       "  /* unfitted */\n",
       "  background: var(--sklearn-color-unfitted-level-0);\n",
       "  border: .5pt solid var(--sklearn-color-unfitted-level-3);\n",
       "}\n",
       "\n",
       ".sk-estimator-doc-link.fitted span {\n",
       "  /* fitted */\n",
       "  background: var(--sklearn-color-fitted-level-0);\n",
       "  border: var(--sklearn-color-fitted-level-3);\n",
       "}\n",
       "\n",
       ".sk-estimator-doc-link:hover span {\n",
       "  display: block;\n",
       "}\n",
       "\n",
       "/* \"?\"-specific style due to the `<a>` HTML tag */\n",
       "\n",
       "#sk-container-id-1 a.estimator_doc_link {\n",
       "  float: right;\n",
       "  font-size: 1rem;\n",
       "  line-height: 1em;\n",
       "  font-family: monospace;\n",
       "  background-color: var(--sklearn-color-background);\n",
       "  border-radius: 1rem;\n",
       "  height: 1rem;\n",
       "  width: 1rem;\n",
       "  text-decoration: none;\n",
       "  /* unfitted */\n",
       "  color: var(--sklearn-color-unfitted-level-1);\n",
       "  border: var(--sklearn-color-unfitted-level-1) 1pt solid;\n",
       "}\n",
       "\n",
       "#sk-container-id-1 a.estimator_doc_link.fitted {\n",
       "  /* fitted */\n",
       "  border: var(--sklearn-color-fitted-level-1) 1pt solid;\n",
       "  color: var(--sklearn-color-fitted-level-1);\n",
       "}\n",
       "\n",
       "/* On hover */\n",
       "#sk-container-id-1 a.estimator_doc_link:hover {\n",
       "  /* unfitted */\n",
       "  background-color: var(--sklearn-color-unfitted-level-3);\n",
       "  color: var(--sklearn-color-background);\n",
       "  text-decoration: none;\n",
       "}\n",
       "\n",
       "#sk-container-id-1 a.estimator_doc_link.fitted:hover {\n",
       "  /* fitted */\n",
       "  background-color: var(--sklearn-color-fitted-level-3);\n",
       "}\n",
       "</style><div id=\"sk-container-id-1\" class=\"sk-top-container\"><div class=\"sk-text-repr-fallback\"><pre>KNeighborsClassifier()</pre><b>In a Jupyter environment, please rerun this cell to show the HTML representation or trust the notebook. <br />On GitHub, the HTML representation is unable to render, please try loading this page with nbviewer.org.</b></div><div class=\"sk-container\" hidden><div class=\"sk-item\"><div class=\"sk-estimator fitted sk-toggleable\"><input class=\"sk-toggleable__control sk-hidden--visually\" id=\"sk-estimator-id-1\" type=\"checkbox\" checked><label for=\"sk-estimator-id-1\" class=\"sk-toggleable__label fitted sk-toggleable__label-arrow fitted\">&nbsp;&nbsp;KNeighborsClassifier<a class=\"sk-estimator-doc-link fitted\" rel=\"noreferrer\" target=\"_blank\" href=\"https://scikit-learn.org/1.4/modules/generated/sklearn.neighbors.KNeighborsClassifier.html\">?<span>Documentation for KNeighborsClassifier</span></a><span class=\"sk-estimator-doc-link fitted\">i<span>Fitted</span></span></label><div class=\"sk-toggleable__content fitted\"><pre>KNeighborsClassifier()</pre></div> </div></div></div></div>"
      ]
     },
     "execution_count": 22,
     "metadata": {},
     "output_type": "execute_result"
    }
   ],
   "execution_count": 22
  },
  {
   "metadata": {
    "ExecuteTime": {
     "end_time": "2024-07-06T12:22:26.280358Z",
     "start_time": "2024-07-06T12:22:26.255591Z"
    }
   },
   "cell_type": "code",
   "source": "y_pred = knn.predict(X_test)",
   "id": "fb0be09f5f77210b",
   "outputs": [],
   "execution_count": 23
  },
  {
   "metadata": {
    "ExecuteTime": {
     "end_time": "2024-07-06T12:25:57.751048Z",
     "start_time": "2024-07-06T12:25:57.724664Z"
    }
   },
   "cell_type": "code",
   "source": [
    "from sklearn.metrics import classification_report, confusion_matrix, accuracy_score, jaccard_score, mean_squared_error, root_mean_squared_error\n",
    "\n",
    "confusion = confusion_matrix(y_test, y_pred)\n",
    "accuracy = accuracy_score(y_test, y_pred)\n",
    "jaccard = jaccard_score(y_test, y_pred)\n",
    "mse = mean_squared_error(y_test, y_pred)\n",
    "rmse = root_mean_squared_error(y_test, y_pred)\n",
    "classification_report = classification_report(y_test, y_pred)\n",
    "print(confusion)"
   ],
   "id": "2c7c9a0c4fa2fdf1",
   "outputs": [
    {
     "name": "stdout",
     "output_type": "stream",
     "text": [
      "[[76 23]\n",
      " [23 32]]\n"
     ]
    }
   ],
   "execution_count": 31
  },
  {
   "metadata": {
    "ExecuteTime": {
     "end_time": "2024-07-06T12:27:00.151770Z",
     "start_time": "2024-07-06T12:27:00.142801Z"
    }
   },
   "cell_type": "code",
   "source": "print(accuracy)",
   "id": "cf704836b21d6d9a",
   "outputs": [
    {
     "name": "stdout",
     "output_type": "stream",
     "text": [
      "0.7012987012987013\n"
     ]
    }
   ],
   "execution_count": 38
  },
  {
   "metadata": {
    "ExecuteTime": {
     "end_time": "2024-07-06T12:26:14.423363Z",
     "start_time": "2024-07-06T12:26:14.403985Z"
    }
   },
   "cell_type": "code",
   "source": "print(jaccard)",
   "id": "8fecfa256e7ca0da",
   "outputs": [
    {
     "data": {
      "text/plain": [
       "0.41025641025641024"
      ]
     },
     "execution_count": 33,
     "metadata": {},
     "output_type": "execute_result"
    }
   ],
   "execution_count": 33
  },
  {
   "metadata": {
    "ExecuteTime": {
     "end_time": "2024-07-06T12:26:15.763089Z",
     "start_time": "2024-07-06T12:26:15.745671Z"
    }
   },
   "cell_type": "code",
   "source": "print(mse)",
   "id": "41fab71d53a45d3c",
   "outputs": [
    {
     "data": {
      "text/plain": [
       "0.2987012987012987"
      ]
     },
     "execution_count": 34,
     "metadata": {},
     "output_type": "execute_result"
    }
   ],
   "execution_count": 34
  },
  {
   "metadata": {
    "ExecuteTime": {
     "end_time": "2024-07-06T12:26:19.015099Z",
     "start_time": "2024-07-06T12:26:18.993554Z"
    }
   },
   "cell_type": "code",
   "source": "print(rmse)",
   "id": "ac0a829e30d33f6a",
   "outputs": [
    {
     "data": {
      "text/plain": [
       "0.5465357250000211"
      ]
     },
     "execution_count": 35,
     "metadata": {},
     "output_type": "execute_result"
    }
   ],
   "execution_count": 35
  },
  {
   "metadata": {
    "ExecuteTime": {
     "end_time": "2024-07-06T12:26:37.965416Z",
     "start_time": "2024-07-06T12:26:37.944581Z"
    }
   },
   "cell_type": "code",
   "source": "print(classification_report)",
   "id": "c58a86ef28a244a1",
   "outputs": [
    {
     "name": "stdout",
     "output_type": "stream",
     "text": [
      "              precision    recall  f1-score   support\n",
      "\n",
      "           0       0.77      0.77      0.77        99\n",
      "           1       0.58      0.58      0.58        55\n",
      "\n",
      "    accuracy                           0.70       154\n",
      "   macro avg       0.67      0.67      0.67       154\n",
      "weighted avg       0.70      0.70      0.70       154\n",
      "\n"
     ]
    }
   ],
   "execution_count": 37
  },
  {
   "metadata": {
    "ExecuteTime": {
     "end_time": "2024-07-06T12:29:03.563733Z",
     "start_time": "2024-07-06T12:29:02.075100Z"
    }
   },
   "cell_type": "code",
   "source": [
    "from sklearn.model_selection import GridSearchCV\n",
    "\n",
    "param_grid = {'n_neighbors': np.arange(1, 25)}\n",
    "knn_gscv = GridSearchCV(knn, param_grid, cv=5)\n",
    "knn_gscv.fit(X_train, y_train)"
   ],
   "id": "ad09a0d65c0e36e1",
   "outputs": [
    {
     "data": {
      "text/plain": [
       "GridSearchCV(cv=5, estimator=KNeighborsClassifier(),\n",
       "             param_grid={'n_neighbors': array([ 1,  2,  3,  4,  5,  6,  7,  8,  9, 10, 11, 12, 13, 14, 15, 16, 17,\n",
       "       18, 19, 20, 21, 22, 23, 24])})"
      ],
      "text/html": [
       "<style>#sk-container-id-2 {\n",
       "  /* Definition of color scheme common for light and dark mode */\n",
       "  --sklearn-color-text: black;\n",
       "  --sklearn-color-line: gray;\n",
       "  /* Definition of color scheme for unfitted estimators */\n",
       "  --sklearn-color-unfitted-level-0: #fff5e6;\n",
       "  --sklearn-color-unfitted-level-1: #f6e4d2;\n",
       "  --sklearn-color-unfitted-level-2: #ffe0b3;\n",
       "  --sklearn-color-unfitted-level-3: chocolate;\n",
       "  /* Definition of color scheme for fitted estimators */\n",
       "  --sklearn-color-fitted-level-0: #f0f8ff;\n",
       "  --sklearn-color-fitted-level-1: #d4ebff;\n",
       "  --sklearn-color-fitted-level-2: #b3dbfd;\n",
       "  --sklearn-color-fitted-level-3: cornflowerblue;\n",
       "\n",
       "  /* Specific color for light theme */\n",
       "  --sklearn-color-text-on-default-background: var(--sg-text-color, var(--theme-code-foreground, var(--jp-content-font-color1, black)));\n",
       "  --sklearn-color-background: var(--sg-background-color, var(--theme-background, var(--jp-layout-color0, white)));\n",
       "  --sklearn-color-border-box: var(--sg-text-color, var(--theme-code-foreground, var(--jp-content-font-color1, black)));\n",
       "  --sklearn-color-icon: #696969;\n",
       "\n",
       "  @media (prefers-color-scheme: dark) {\n",
       "    /* Redefinition of color scheme for dark theme */\n",
       "    --sklearn-color-text-on-default-background: var(--sg-text-color, var(--theme-code-foreground, var(--jp-content-font-color1, white)));\n",
       "    --sklearn-color-background: var(--sg-background-color, var(--theme-background, var(--jp-layout-color0, #111)));\n",
       "    --sklearn-color-border-box: var(--sg-text-color, var(--theme-code-foreground, var(--jp-content-font-color1, white)));\n",
       "    --sklearn-color-icon: #878787;\n",
       "  }\n",
       "}\n",
       "\n",
       "#sk-container-id-2 {\n",
       "  color: var(--sklearn-color-text);\n",
       "}\n",
       "\n",
       "#sk-container-id-2 pre {\n",
       "  padding: 0;\n",
       "}\n",
       "\n",
       "#sk-container-id-2 input.sk-hidden--visually {\n",
       "  border: 0;\n",
       "  clip: rect(1px 1px 1px 1px);\n",
       "  clip: rect(1px, 1px, 1px, 1px);\n",
       "  height: 1px;\n",
       "  margin: -1px;\n",
       "  overflow: hidden;\n",
       "  padding: 0;\n",
       "  position: absolute;\n",
       "  width: 1px;\n",
       "}\n",
       "\n",
       "#sk-container-id-2 div.sk-dashed-wrapped {\n",
       "  border: 1px dashed var(--sklearn-color-line);\n",
       "  margin: 0 0.4em 0.5em 0.4em;\n",
       "  box-sizing: border-box;\n",
       "  padding-bottom: 0.4em;\n",
       "  background-color: var(--sklearn-color-background);\n",
       "}\n",
       "\n",
       "#sk-container-id-2 div.sk-container {\n",
       "  /* jupyter's `normalize.less` sets `[hidden] { display: none; }`\n",
       "     but bootstrap.min.css set `[hidden] { display: none !important; }`\n",
       "     so we also need the `!important` here to be able to override the\n",
       "     default hidden behavior on the sphinx rendered scikit-learn.org.\n",
       "     See: https://github.com/scikit-learn/scikit-learn/issues/21755 */\n",
       "  display: inline-block !important;\n",
       "  position: relative;\n",
       "}\n",
       "\n",
       "#sk-container-id-2 div.sk-text-repr-fallback {\n",
       "  display: none;\n",
       "}\n",
       "\n",
       "div.sk-parallel-item,\n",
       "div.sk-serial,\n",
       "div.sk-item {\n",
       "  /* draw centered vertical line to link estimators */\n",
       "  background-image: linear-gradient(var(--sklearn-color-text-on-default-background), var(--sklearn-color-text-on-default-background));\n",
       "  background-size: 2px 100%;\n",
       "  background-repeat: no-repeat;\n",
       "  background-position: center center;\n",
       "}\n",
       "\n",
       "/* Parallel-specific style estimator block */\n",
       "\n",
       "#sk-container-id-2 div.sk-parallel-item::after {\n",
       "  content: \"\";\n",
       "  width: 100%;\n",
       "  border-bottom: 2px solid var(--sklearn-color-text-on-default-background);\n",
       "  flex-grow: 1;\n",
       "}\n",
       "\n",
       "#sk-container-id-2 div.sk-parallel {\n",
       "  display: flex;\n",
       "  align-items: stretch;\n",
       "  justify-content: center;\n",
       "  background-color: var(--sklearn-color-background);\n",
       "  position: relative;\n",
       "}\n",
       "\n",
       "#sk-container-id-2 div.sk-parallel-item {\n",
       "  display: flex;\n",
       "  flex-direction: column;\n",
       "}\n",
       "\n",
       "#sk-container-id-2 div.sk-parallel-item:first-child::after {\n",
       "  align-self: flex-end;\n",
       "  width: 50%;\n",
       "}\n",
       "\n",
       "#sk-container-id-2 div.sk-parallel-item:last-child::after {\n",
       "  align-self: flex-start;\n",
       "  width: 50%;\n",
       "}\n",
       "\n",
       "#sk-container-id-2 div.sk-parallel-item:only-child::after {\n",
       "  width: 0;\n",
       "}\n",
       "\n",
       "/* Serial-specific style estimator block */\n",
       "\n",
       "#sk-container-id-2 div.sk-serial {\n",
       "  display: flex;\n",
       "  flex-direction: column;\n",
       "  align-items: center;\n",
       "  background-color: var(--sklearn-color-background);\n",
       "  padding-right: 1em;\n",
       "  padding-left: 1em;\n",
       "}\n",
       "\n",
       "\n",
       "/* Toggleable style: style used for estimator/Pipeline/ColumnTransformer box that is\n",
       "clickable and can be expanded/collapsed.\n",
       "- Pipeline and ColumnTransformer use this feature and define the default style\n",
       "- Estimators will overwrite some part of the style using the `sk-estimator` class\n",
       "*/\n",
       "\n",
       "/* Pipeline and ColumnTransformer style (default) */\n",
       "\n",
       "#sk-container-id-2 div.sk-toggleable {\n",
       "  /* Default theme specific background. It is overwritten whether we have a\n",
       "  specific estimator or a Pipeline/ColumnTransformer */\n",
       "  background-color: var(--sklearn-color-background);\n",
       "}\n",
       "\n",
       "/* Toggleable label */\n",
       "#sk-container-id-2 label.sk-toggleable__label {\n",
       "  cursor: pointer;\n",
       "  display: block;\n",
       "  width: 100%;\n",
       "  margin-bottom: 0;\n",
       "  padding: 0.5em;\n",
       "  box-sizing: border-box;\n",
       "  text-align: center;\n",
       "}\n",
       "\n",
       "#sk-container-id-2 label.sk-toggleable__label-arrow:before {\n",
       "  /* Arrow on the left of the label */\n",
       "  content: \"▸\";\n",
       "  float: left;\n",
       "  margin-right: 0.25em;\n",
       "  color: var(--sklearn-color-icon);\n",
       "}\n",
       "\n",
       "#sk-container-id-2 label.sk-toggleable__label-arrow:hover:before {\n",
       "  color: var(--sklearn-color-text);\n",
       "}\n",
       "\n",
       "/* Toggleable content - dropdown */\n",
       "\n",
       "#sk-container-id-2 div.sk-toggleable__content {\n",
       "  max-height: 0;\n",
       "  max-width: 0;\n",
       "  overflow: hidden;\n",
       "  text-align: left;\n",
       "  /* unfitted */\n",
       "  background-color: var(--sklearn-color-unfitted-level-0);\n",
       "}\n",
       "\n",
       "#sk-container-id-2 div.sk-toggleable__content.fitted {\n",
       "  /* fitted */\n",
       "  background-color: var(--sklearn-color-fitted-level-0);\n",
       "}\n",
       "\n",
       "#sk-container-id-2 div.sk-toggleable__content pre {\n",
       "  margin: 0.2em;\n",
       "  border-radius: 0.25em;\n",
       "  color: var(--sklearn-color-text);\n",
       "  /* unfitted */\n",
       "  background-color: var(--sklearn-color-unfitted-level-0);\n",
       "}\n",
       "\n",
       "#sk-container-id-2 div.sk-toggleable__content.fitted pre {\n",
       "  /* unfitted */\n",
       "  background-color: var(--sklearn-color-fitted-level-0);\n",
       "}\n",
       "\n",
       "#sk-container-id-2 input.sk-toggleable__control:checked~div.sk-toggleable__content {\n",
       "  /* Expand drop-down */\n",
       "  max-height: 200px;\n",
       "  max-width: 100%;\n",
       "  overflow: auto;\n",
       "}\n",
       "\n",
       "#sk-container-id-2 input.sk-toggleable__control:checked~label.sk-toggleable__label-arrow:before {\n",
       "  content: \"▾\";\n",
       "}\n",
       "\n",
       "/* Pipeline/ColumnTransformer-specific style */\n",
       "\n",
       "#sk-container-id-2 div.sk-label input.sk-toggleable__control:checked~label.sk-toggleable__label {\n",
       "  color: var(--sklearn-color-text);\n",
       "  background-color: var(--sklearn-color-unfitted-level-2);\n",
       "}\n",
       "\n",
       "#sk-container-id-2 div.sk-label.fitted input.sk-toggleable__control:checked~label.sk-toggleable__label {\n",
       "  background-color: var(--sklearn-color-fitted-level-2);\n",
       "}\n",
       "\n",
       "/* Estimator-specific style */\n",
       "\n",
       "/* Colorize estimator box */\n",
       "#sk-container-id-2 div.sk-estimator input.sk-toggleable__control:checked~label.sk-toggleable__label {\n",
       "  /* unfitted */\n",
       "  background-color: var(--sklearn-color-unfitted-level-2);\n",
       "}\n",
       "\n",
       "#sk-container-id-2 div.sk-estimator.fitted input.sk-toggleable__control:checked~label.sk-toggleable__label {\n",
       "  /* fitted */\n",
       "  background-color: var(--sklearn-color-fitted-level-2);\n",
       "}\n",
       "\n",
       "#sk-container-id-2 div.sk-label label.sk-toggleable__label,\n",
       "#sk-container-id-2 div.sk-label label {\n",
       "  /* The background is the default theme color */\n",
       "  color: var(--sklearn-color-text-on-default-background);\n",
       "}\n",
       "\n",
       "/* On hover, darken the color of the background */\n",
       "#sk-container-id-2 div.sk-label:hover label.sk-toggleable__label {\n",
       "  color: var(--sklearn-color-text);\n",
       "  background-color: var(--sklearn-color-unfitted-level-2);\n",
       "}\n",
       "\n",
       "/* Label box, darken color on hover, fitted */\n",
       "#sk-container-id-2 div.sk-label.fitted:hover label.sk-toggleable__label.fitted {\n",
       "  color: var(--sklearn-color-text);\n",
       "  background-color: var(--sklearn-color-fitted-level-2);\n",
       "}\n",
       "\n",
       "/* Estimator label */\n",
       "\n",
       "#sk-container-id-2 div.sk-label label {\n",
       "  font-family: monospace;\n",
       "  font-weight: bold;\n",
       "  display: inline-block;\n",
       "  line-height: 1.2em;\n",
       "}\n",
       "\n",
       "#sk-container-id-2 div.sk-label-container {\n",
       "  text-align: center;\n",
       "}\n",
       "\n",
       "/* Estimator-specific */\n",
       "#sk-container-id-2 div.sk-estimator {\n",
       "  font-family: monospace;\n",
       "  border: 1px dotted var(--sklearn-color-border-box);\n",
       "  border-radius: 0.25em;\n",
       "  box-sizing: border-box;\n",
       "  margin-bottom: 0.5em;\n",
       "  /* unfitted */\n",
       "  background-color: var(--sklearn-color-unfitted-level-0);\n",
       "}\n",
       "\n",
       "#sk-container-id-2 div.sk-estimator.fitted {\n",
       "  /* fitted */\n",
       "  background-color: var(--sklearn-color-fitted-level-0);\n",
       "}\n",
       "\n",
       "/* on hover */\n",
       "#sk-container-id-2 div.sk-estimator:hover {\n",
       "  /* unfitted */\n",
       "  background-color: var(--sklearn-color-unfitted-level-2);\n",
       "}\n",
       "\n",
       "#sk-container-id-2 div.sk-estimator.fitted:hover {\n",
       "  /* fitted */\n",
       "  background-color: var(--sklearn-color-fitted-level-2);\n",
       "}\n",
       "\n",
       "/* Specification for estimator info (e.g. \"i\" and \"?\") */\n",
       "\n",
       "/* Common style for \"i\" and \"?\" */\n",
       "\n",
       ".sk-estimator-doc-link,\n",
       "a:link.sk-estimator-doc-link,\n",
       "a:visited.sk-estimator-doc-link {\n",
       "  float: right;\n",
       "  font-size: smaller;\n",
       "  line-height: 1em;\n",
       "  font-family: monospace;\n",
       "  background-color: var(--sklearn-color-background);\n",
       "  border-radius: 1em;\n",
       "  height: 1em;\n",
       "  width: 1em;\n",
       "  text-decoration: none !important;\n",
       "  margin-left: 1ex;\n",
       "  /* unfitted */\n",
       "  border: var(--sklearn-color-unfitted-level-1) 1pt solid;\n",
       "  color: var(--sklearn-color-unfitted-level-1);\n",
       "}\n",
       "\n",
       ".sk-estimator-doc-link.fitted,\n",
       "a:link.sk-estimator-doc-link.fitted,\n",
       "a:visited.sk-estimator-doc-link.fitted {\n",
       "  /* fitted */\n",
       "  border: var(--sklearn-color-fitted-level-1) 1pt solid;\n",
       "  color: var(--sklearn-color-fitted-level-1);\n",
       "}\n",
       "\n",
       "/* On hover */\n",
       "div.sk-estimator:hover .sk-estimator-doc-link:hover,\n",
       ".sk-estimator-doc-link:hover,\n",
       "div.sk-label-container:hover .sk-estimator-doc-link:hover,\n",
       ".sk-estimator-doc-link:hover {\n",
       "  /* unfitted */\n",
       "  background-color: var(--sklearn-color-unfitted-level-3);\n",
       "  color: var(--sklearn-color-background);\n",
       "  text-decoration: none;\n",
       "}\n",
       "\n",
       "div.sk-estimator.fitted:hover .sk-estimator-doc-link.fitted:hover,\n",
       ".sk-estimator-doc-link.fitted:hover,\n",
       "div.sk-label-container:hover .sk-estimator-doc-link.fitted:hover,\n",
       ".sk-estimator-doc-link.fitted:hover {\n",
       "  /* fitted */\n",
       "  background-color: var(--sklearn-color-fitted-level-3);\n",
       "  color: var(--sklearn-color-background);\n",
       "  text-decoration: none;\n",
       "}\n",
       "\n",
       "/* Span, style for the box shown on hovering the info icon */\n",
       ".sk-estimator-doc-link span {\n",
       "  display: none;\n",
       "  z-index: 9999;\n",
       "  position: relative;\n",
       "  font-weight: normal;\n",
       "  right: .2ex;\n",
       "  padding: .5ex;\n",
       "  margin: .5ex;\n",
       "  width: min-content;\n",
       "  min-width: 20ex;\n",
       "  max-width: 50ex;\n",
       "  color: var(--sklearn-color-text);\n",
       "  box-shadow: 2pt 2pt 4pt #999;\n",
       "  /* unfitted */\n",
       "  background: var(--sklearn-color-unfitted-level-0);\n",
       "  border: .5pt solid var(--sklearn-color-unfitted-level-3);\n",
       "}\n",
       "\n",
       ".sk-estimator-doc-link.fitted span {\n",
       "  /* fitted */\n",
       "  background: var(--sklearn-color-fitted-level-0);\n",
       "  border: var(--sklearn-color-fitted-level-3);\n",
       "}\n",
       "\n",
       ".sk-estimator-doc-link:hover span {\n",
       "  display: block;\n",
       "}\n",
       "\n",
       "/* \"?\"-specific style due to the `<a>` HTML tag */\n",
       "\n",
       "#sk-container-id-2 a.estimator_doc_link {\n",
       "  float: right;\n",
       "  font-size: 1rem;\n",
       "  line-height: 1em;\n",
       "  font-family: monospace;\n",
       "  background-color: var(--sklearn-color-background);\n",
       "  border-radius: 1rem;\n",
       "  height: 1rem;\n",
       "  width: 1rem;\n",
       "  text-decoration: none;\n",
       "  /* unfitted */\n",
       "  color: var(--sklearn-color-unfitted-level-1);\n",
       "  border: var(--sklearn-color-unfitted-level-1) 1pt solid;\n",
       "}\n",
       "\n",
       "#sk-container-id-2 a.estimator_doc_link.fitted {\n",
       "  /* fitted */\n",
       "  border: var(--sklearn-color-fitted-level-1) 1pt solid;\n",
       "  color: var(--sklearn-color-fitted-level-1);\n",
       "}\n",
       "\n",
       "/* On hover */\n",
       "#sk-container-id-2 a.estimator_doc_link:hover {\n",
       "  /* unfitted */\n",
       "  background-color: var(--sklearn-color-unfitted-level-3);\n",
       "  color: var(--sklearn-color-background);\n",
       "  text-decoration: none;\n",
       "}\n",
       "\n",
       "#sk-container-id-2 a.estimator_doc_link.fitted:hover {\n",
       "  /* fitted */\n",
       "  background-color: var(--sklearn-color-fitted-level-3);\n",
       "}\n",
       "</style><div id=\"sk-container-id-2\" class=\"sk-top-container\"><div class=\"sk-text-repr-fallback\"><pre>GridSearchCV(cv=5, estimator=KNeighborsClassifier(),\n",
       "             param_grid={&#x27;n_neighbors&#x27;: array([ 1,  2,  3,  4,  5,  6,  7,  8,  9, 10, 11, 12, 13, 14, 15, 16, 17,\n",
       "       18, 19, 20, 21, 22, 23, 24])})</pre><b>In a Jupyter environment, please rerun this cell to show the HTML representation or trust the notebook. <br />On GitHub, the HTML representation is unable to render, please try loading this page with nbviewer.org.</b></div><div class=\"sk-container\" hidden><div class=\"sk-item sk-dashed-wrapped\"><div class=\"sk-label-container\"><div class=\"sk-label fitted sk-toggleable\"><input class=\"sk-toggleable__control sk-hidden--visually\" id=\"sk-estimator-id-2\" type=\"checkbox\" ><label for=\"sk-estimator-id-2\" class=\"sk-toggleable__label fitted sk-toggleable__label-arrow fitted\">&nbsp;&nbsp;GridSearchCV<a class=\"sk-estimator-doc-link fitted\" rel=\"noreferrer\" target=\"_blank\" href=\"https://scikit-learn.org/1.4/modules/generated/sklearn.model_selection.GridSearchCV.html\">?<span>Documentation for GridSearchCV</span></a><span class=\"sk-estimator-doc-link fitted\">i<span>Fitted</span></span></label><div class=\"sk-toggleable__content fitted\"><pre>GridSearchCV(cv=5, estimator=KNeighborsClassifier(),\n",
       "             param_grid={&#x27;n_neighbors&#x27;: array([ 1,  2,  3,  4,  5,  6,  7,  8,  9, 10, 11, 12, 13, 14, 15, 16, 17,\n",
       "       18, 19, 20, 21, 22, 23, 24])})</pre></div> </div></div><div class=\"sk-parallel\"><div class=\"sk-parallel-item\"><div class=\"sk-item\"><div class=\"sk-label-container\"><div class=\"sk-label fitted sk-toggleable\"><input class=\"sk-toggleable__control sk-hidden--visually\" id=\"sk-estimator-id-3\" type=\"checkbox\" ><label for=\"sk-estimator-id-3\" class=\"sk-toggleable__label fitted sk-toggleable__label-arrow fitted\">estimator: KNeighborsClassifier</label><div class=\"sk-toggleable__content fitted\"><pre>KNeighborsClassifier()</pre></div> </div></div><div class=\"sk-serial\"><div class=\"sk-item\"><div class=\"sk-estimator fitted sk-toggleable\"><input class=\"sk-toggleable__control sk-hidden--visually\" id=\"sk-estimator-id-4\" type=\"checkbox\" ><label for=\"sk-estimator-id-4\" class=\"sk-toggleable__label fitted sk-toggleable__label-arrow fitted\">&nbsp;KNeighborsClassifier<a class=\"sk-estimator-doc-link fitted\" rel=\"noreferrer\" target=\"_blank\" href=\"https://scikit-learn.org/1.4/modules/generated/sklearn.neighbors.KNeighborsClassifier.html\">?<span>Documentation for KNeighborsClassifier</span></a></label><div class=\"sk-toggleable__content fitted\"><pre>KNeighborsClassifier()</pre></div> </div></div></div></div></div></div></div></div></div>"
      ]
     },
     "execution_count": 39,
     "metadata": {},
     "output_type": "execute_result"
    }
   ],
   "execution_count": 39
  },
  {
   "metadata": {
    "ExecuteTime": {
     "end_time": "2024-07-06T12:31:02.064274Z",
     "start_time": "2024-07-06T12:31:02.047296Z"
    }
   },
   "cell_type": "code",
   "source": "knn_gscv.cv_results_['rank_test_score']",
   "id": "811fbc24e127cf87",
   "outputs": [
    {
     "data": {
      "text/plain": [
       "array([24, 23, 22,  9, 21, 13,  1, 11,  7, 16, 12,  3,  2, 10, 17,  4,  8,\n",
       "       15,  5, 20,  6, 19, 14, 18])"
      ]
     },
     "execution_count": 41,
     "metadata": {},
     "output_type": "execute_result"
    }
   ],
   "execution_count": 41
  },
  {
   "metadata": {
    "ExecuteTime": {
     "end_time": "2024-07-06T12:31:12.639823Z",
     "start_time": "2024-07-06T12:31:12.628897Z"
    }
   },
   "cell_type": "code",
   "source": "knn_gscv.best_params_",
   "id": "73c5e9a2609909ad",
   "outputs": [
    {
     "data": {
      "text/plain": [
       "{'n_neighbors': 7}"
      ]
     },
     "execution_count": 42,
     "metadata": {},
     "output_type": "execute_result"
    }
   ],
   "execution_count": 42
  },
  {
   "metadata": {
    "ExecuteTime": {
     "end_time": "2024-07-06T12:31:23.030060Z",
     "start_time": "2024-07-06T12:31:23.013836Z"
    }
   },
   "cell_type": "code",
   "source": "knn_gscv.best_score_",
   "id": "4b845d02fb41c730",
   "outputs": [
    {
     "data": {
      "text/plain": [
       "0.7491003598560576"
      ]
     },
     "execution_count": 43,
     "metadata": {},
     "output_type": "execute_result"
    }
   ],
   "execution_count": 43
  },
 ],
 "metadata": {
  "kernelspec": {
   "display_name": "Python 3 (ipykernel)",
   "language": "python",
   "name": "python3"
  },
  "language_info": {
   "codemirror_mode": {
    "name": "ipython",
    "version": 3
   },
   "file_extension": ".py",
   "mimetype": "text/x-python",
   "name": "python",
   "nbconvert_exporter": "python",
   "pygments_lexer": "ipython3",
   "version": "3.12.4"
  }
 },
 "nbformat": 4,
 "nbformat_minor": 5
}
