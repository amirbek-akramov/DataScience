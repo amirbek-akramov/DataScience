{
 "cells": [
  {
   "cell_type": "code",
   "execution_count": 1,
   "id": "875e0242-4dce-445a-9b03-cd762ad9a8af",
   "metadata": {},
   "outputs": [],
   "source": [
    "import pandas as pd\n",
    "import numpy as np\n",
    "import sklearn\n",
    "\n",
    "URL = \"https://raw.githubusercontent.com/ageron/handson-ml2/master/datasets/housing/housing.csv\"\n",
    "df = pd.read_csv(URL)\n",
    "\n",
    "from sklearn.model_selection import train_test_split\n",
    "train_set, test_set = train_test_split(df, test_size=0.2, random_state=42)\n",
    "\n",
    "housing = train_set.drop('median_house_value', axis=1)\n",
    "housing_labels = train_set[\"median_house_value\"].copy()\n",
    "\n",
    "housing_wop = housing.drop(\"ocean_proximity\", axis=1)"
   ]
  },
  {
   "cell_type": "code",
   "execution_count": 8,
   "id": "a6ecce67-2820-4fe2-8695-9a02e05adcf6",
   "metadata": {},
   "outputs": [],
   "source": [
    "from sklearn.base import BaseEstimator, TransformerMixin\n",
    "\n",
    "rooms_IX, bedrooms_IX, population_IX, households_IX = 3, 4, 5, 6\n",
    "\n",
    "class CombinedAttributesAdder(BaseEstimator, TransformerMixin):\n",
    "    def __init__(self, add_bedrooms_per_room=True):\n",
    "        self.add_bedrooms_per_room = add_bedrooms_per_room\n",
    "    def fit(self, X, y=None):\n",
    "        return self\n",
    "    def transform(self, X):\n",
    "        rooms_per_household = X[:, rooms_IX] / X[:, households_IX]\n",
    "        population_per_household = X[:, population_IX] / X[:, households_IX]\n",
    "        if self.add_bedrooms_per_room:\n",
    "            bedroom_per_room = X[:, bedrooms_IX] / X[:, rooms_IX]\n",
    "            return np.c_[X, rooms_per_household, population_per_household, bedroom_per_room]\n",
    "        else:\n",
    "            return np.c_[X, rooms_per_household, population_per_household]\n",
    "            "
   ]
  },
  {
   "cell_type": "code",
   "execution_count": 9,
   "id": "81f5b1c9-aa1b-4e4f-ae64-63e433970e9b",
   "metadata": {},
   "outputs": [
    {
     "data": {
      "text/plain": [
       "array([[ 1.27258656, -1.3728112 ,  0.34849025, ..., -0.17491646,\n",
       "         0.05137609, -0.2117846 ],\n",
       "       [ 0.70916212, -0.87669601,  1.61811813, ..., -0.40283542,\n",
       "        -0.11736222,  0.34218528],\n",
       "       [-0.44760309, -0.46014647, -1.95271028, ...,  0.08821601,\n",
       "        -0.03227969, -0.66165785],\n",
       "       ...,\n",
       "       [ 0.59946887, -0.75500738,  0.58654547, ..., -0.60675918,\n",
       "         0.02030568,  0.99951387],\n",
       "       [-1.18553953,  0.90651045, -1.07984112, ...,  0.40217517,\n",
       "         0.00707608, -0.79086209],\n",
       "       [-1.41489815,  0.99543676,  1.85617335, ..., -0.85144571,\n",
       "        -0.08535429,  1.69520292]])"
      ]
     },
     "execution_count": 9,
     "metadata": {},
     "output_type": "execute_result"
    }
   ],
   "source": [
    "from sklearn.pipeline import Pipeline\n",
    "from sklearn.impute import SimpleImputer\n",
    "from sklearn.preprocessing import OneHotEncoder, StandardScaler\n",
    "\n",
    "\n",
    "num_pipeline = Pipeline([\n",
    "    ('imputer', SimpleImputer(strategy='median')),\n",
    "    ('attribs_adder', CombinedAttributesAdder()),\n",
    "    ('std_scaler', StandardScaler())\n",
    "])\n",
    "\n",
    "num_pipeline.fit_transform(housing_wop)"
   ]
  },
  {
   "cell_type": "code",
   "execution_count": 11,
   "id": "e55fdd28-1536-4d6f-9c58-4a20b77787d2",
   "metadata": {},
   "outputs": [],
   "source": [
    "from sklearn.compose import ColumnTransformer\n",
    "\n",
    "num_attribs = list(housing_wop)"
   ]
  },
  {
   "cell_type": "code",
   "execution_count": 16,
   "id": "0d2328f3-825e-437c-9ceb-d92a05adcb77",
   "metadata": {},
   "outputs": [],
   "source": [
    "list(housing_wop)\n",
    "cat_attribs = ['ocean_proximity']\n",
    "cat_attribs\n",
    "\n",
    "full_pipeline = ColumnTransformer([\n",
    "    ('num', num_pipeline, num_attribs),\n",
    "    ('cat', OneHotEncoder(), cat_attribs)\n",
    "])"
   ]
  },
  {
   "cell_type": "code",
   "execution_count": 17,
   "id": "c409888c-114d-4eb5-96e6-74d33e631fc6",
   "metadata": {},
   "outputs": [],
   "source": [
    "hp = full_pipeline.fit_transform(housing)"
   ]
  },
  {
   "cell_type": "code",
   "execution_count": 21,
   "id": "ddb5176f-1c21-4146-895c-3f1199b1a61d",
   "metadata": {},
   "outputs": [
    {
     "data": {
      "text/plain": [
       "array([[ 1.27258656, -1.3728112 ,  0.34849025,  0.22256942,  0.21122752,\n",
       "         0.76827628,  0.32290591, -0.326196  , -0.17491646,  0.05137609,\n",
       "        -0.2117846 ,  0.        ,  0.        ,  0.        ,  0.        ,\n",
       "         1.        ],\n",
       "       [ 0.70916212, -0.87669601,  1.61811813,  0.34029326,  0.59309419,\n",
       "        -0.09890135,  0.6720272 , -0.03584338, -0.40283542, -0.11736222,\n",
       "         0.34218528,  0.        ,  0.        ,  0.        ,  0.        ,\n",
       "         1.        ],\n",
       "       [-0.44760309, -0.46014647, -1.95271028, -0.34259695, -0.49522582,\n",
       "        -0.44981806, -0.43046109,  0.14470145,  0.08821601, -0.03227969,\n",
       "        -0.66165785,  0.        ,  0.        ,  0.        ,  0.        ,\n",
       "         1.        ],\n",
       "       [ 1.23269811, -1.38217186,  0.58654547, -0.56148971, -0.40930582,\n",
       "        -0.00743434, -0.38058662, -1.01786438, -0.60001532,  0.07750687,\n",
       "         0.78303162,  0.        ,  0.        ,  0.        ,  0.        ,\n",
       "         1.        ],\n",
       "       [-0.10855122,  0.5320839 ,  1.14200767, -0.11956547, -0.25655915,\n",
       "        -0.48587717, -0.31496232, -0.17148831,  0.3490073 , -0.06883176,\n",
       "        -0.55036364,  0.        ,  1.        ,  0.        ,  0.        ,\n",
       "         0.        ]])"
      ]
     },
     "execution_count": 21,
     "metadata": {},
     "output_type": "execute_result"
    }
   ],
   "source": [
    "hp[:5]"
   ]
  },
  {
   "cell_type": "code",
   "execution_count": null,
   "id": "a818d50d-4738-4ef6-9d81-2dcf7e256808",
   "metadata": {},
   "outputs": [],
   "source": [
    "t"
   ]
  }
 ],
 "metadata": {
  "kernelspec": {
   "display_name": "Python 3 (ipykernel)",
   "language": "python",
   "name": "python3"
  },
  "language_info": {
   "codemirror_mode": {
    "name": "ipython",
    "version": 3
   },
   "file_extension": ".py",
   "mimetype": "text/x-python",
   "name": "python",
   "nbconvert_exporter": "python",
   "pygments_lexer": "ipython3",
   "version": "3.12.3"
  }
 },
 "nbformat": 4,
 "nbformat_minor": 5
}
